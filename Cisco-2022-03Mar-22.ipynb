{
 "cells": [
  {
   "cell_type": "markdown",
   "id": "549610d8",
   "metadata": {},
   "source": [
    "# Agenda\n",
    "\n",
    "1. Dictionaries\n",
    "2. Sets\n",
    "3. Files\n",
    "    - Reading from files\n",
    "    - Writing to files\n",
    "4. Combinations of data structures\n",
    "5. Functions (finally!)"
   ]
  },
  {
   "cell_type": "code",
   "execution_count": 1,
   "id": "899755dc",
   "metadata": {},
   "outputs": [
    {
     "data": {
      "text/plain": [
       "True"
      ]
     },
     "execution_count": 1,
     "metadata": {},
     "output_type": "execute_result"
    }
   ],
   "source": [
    "mylist = [10, 20, 30, 40, 50]\n",
    "\n",
    "# if I want to search for the number 30 in mylist, how do I do it?\n",
    "30 in mylist"
   ]
  },
  {
   "cell_type": "code",
   "execution_count": 2,
   "id": "d8e6cd11",
   "metadata": {},
   "outputs": [
    {
     "data": {
      "text/plain": [
       "2"
      ]
     },
     "execution_count": 2,
     "metadata": {},
     "output_type": "execute_result"
    }
   ],
   "source": [
    "mylist.index(30)"
   ]
  },
  {
   "cell_type": "code",
   "execution_count": 4,
   "id": "5a08593e",
   "metadata": {},
   "outputs": [],
   "source": [
    "# How long does it take for Python to find 30 in mylist?\n",
    "# it depends... on the length of the list\n",
    "# the longer the list, the longer it might take for us to find 30\n",
    "# we describe this in CS as O(n) -- meaning, the time it takes is proportional to the length of the list\n",
    "# so: longer lists, longer search times (on average), shorter lists, shorter search times (on average)\n",
    "\n",
    "# what if I want to have a record of a person?\n",
    "\n",
    "# tuple -- traditional to use one for a record/struct, and/or when we have different types\n",
    "\n",
    "person = ('Reuven', 'Lerner', 46)  # first name, last name, shoe size"
   ]
  },
  {
   "cell_type": "code",
   "execution_count": 5,
   "id": "7dc5039f",
   "metadata": {},
   "outputs": [
    {
     "data": {
      "text/plain": [
       "'Reuven'"
      ]
     },
     "execution_count": 5,
     "metadata": {},
     "output_type": "execute_result"
    }
   ],
   "source": [
    "person[0]  # first name"
   ]
  },
  {
   "cell_type": "code",
   "execution_count": 6,
   "id": "3330f265",
   "metadata": {},
   "outputs": [
    {
     "data": {
      "text/plain": [
       "'Lerner'"
      ]
     },
     "execution_count": 6,
     "metadata": {},
     "output_type": "execute_result"
    }
   ],
   "source": [
    "person[1]  # last name"
   ]
  },
  {
   "cell_type": "code",
   "execution_count": 7,
   "id": "c70509de",
   "metadata": {},
   "outputs": [
    {
     "data": {
      "text/plain": [
       "46"
      ]
     },
     "execution_count": 7,
     "metadata": {},
     "output_type": "execute_result"
    }
   ],
   "source": [
    "person[2]  # shoe size"
   ]
  },
  {
   "cell_type": "markdown",
   "id": "4e6066de",
   "metadata": {},
   "source": [
    "# Dictionaries to the rescue!\n",
    "\n",
    "Dictionaries (dicts) are:\n",
    "- Very fast to search in\n",
    "- Allow us to use any string we want as an index (known as a \"key\" in dicts)\n",
    "\n",
    "Dictionaries aren't unique to Python. They also exist in other languages, with (usually) other names:\n",
    "- Hash tables\n",
    "- Hashes\n",
    "- Hash maps\n",
    "- Maps\n",
    "- Key-value stores\n",
    "- Name-value stores\n",
    "- Associative arrays\n",
    "\n",
    "The idea of a dict is that you have key-value pairs. We determine both (unlike str/list/tuple, where indexes start at 0, and are determined by the computer).\n",
    "\n",
    "- Keys in dicts can be any immutable type in Python (basically means: strings, ints, floats, `None`, and tuples)\n",
    "- Values can be absolutely, positively anything at all\n",
    "\n",
    "In a dict, keys must be unique. Values don't have to be. We use the key to access the value, as well as to change the value, if/when we want."
   ]
  },
  {
   "cell_type": "code",
   "execution_count": 8,
   "id": "4eded7d1",
   "metadata": {},
   "outputs": [],
   "source": [
    "# define a new dictionary with {}\n",
    "  \n",
    "d = {'a':10, 'b':20, 'c':30}    # this dict has three key-value pairs: a/10, b/20, and c/30"
   ]
  },
  {
   "cell_type": "code",
   "execution_count": 9,
   "id": "b4b0920f",
   "metadata": {},
   "outputs": [
    {
     "data": {
      "text/plain": [
       "3"
      ]
     },
     "execution_count": 9,
     "metadata": {},
     "output_type": "execute_result"
    }
   ],
   "source": [
    "len(d)  # how big is d?  this measures the number of pairs"
   ]
  },
  {
   "cell_type": "code",
   "execution_count": 10,
   "id": "e3588a04",
   "metadata": {},
   "outputs": [
    {
     "data": {
      "text/plain": [
       "10"
      ]
     },
     "execution_count": 10,
     "metadata": {},
     "output_type": "execute_result"
    }
   ],
   "source": [
    "# to retrieve a value based on a key, use []\n",
    "d['a']  # returns the value associated with a"
   ]
  },
  {
   "cell_type": "code",
   "execution_count": 11,
   "id": "adcf52fb",
   "metadata": {},
   "outputs": [
    {
     "ename": "KeyError",
     "evalue": "'q'",
     "output_type": "error",
     "traceback": [
      "\u001b[0;31m---------------------------------------------------------------------------\u001b[0m",
      "\u001b[0;31mKeyError\u001b[0m                                  Traceback (most recent call last)",
      "\u001b[0;32m/var/folders/rr/0mnyyv811fs5vyp22gf4fxk00000gn/T/ipykernel_81114/2933430758.py\u001b[0m in \u001b[0;36m<module>\u001b[0;34m\u001b[0m\n\u001b[0;32m----> 1\u001b[0;31m \u001b[0md\u001b[0m\u001b[0;34m[\u001b[0m\u001b[0;34m'q'\u001b[0m\u001b[0;34m]\u001b[0m  \u001b[0;31m# retrieve from a key that doesn't exist\u001b[0m\u001b[0;34m\u001b[0m\u001b[0;34m\u001b[0m\u001b[0m\n\u001b[0m",
      "\u001b[0;31mKeyError\u001b[0m: 'q'"
     ]
    }
   ],
   "source": [
    "d['q']  # retrieve from a key that doesn't exist"
   ]
  },
  {
   "cell_type": "code",
   "execution_count": 12,
   "id": "13ace409",
   "metadata": {},
   "outputs": [
    {
     "data": {
      "text/plain": [
       "True"
      ]
     },
     "execution_count": 12,
     "metadata": {},
     "output_type": "execute_result"
    }
   ],
   "source": [
    "# check if a key is in the dict with \"in\"\n",
    "'a' in d"
   ]
  },
  {
   "cell_type": "code",
   "execution_count": 13,
   "id": "fd9f5919",
   "metadata": {},
   "outputs": [
    {
     "data": {
      "text/plain": [
       "False"
      ]
     },
     "execution_count": 13,
     "metadata": {},
     "output_type": "execute_result"
    }
   ],
   "source": [
    "'q' in d"
   ]
  },
  {
   "cell_type": "code",
   "execution_count": 14,
   "id": "adad0f1b",
   "metadata": {},
   "outputs": [],
   "source": [
    "# rewrite my \"person\" record with a dict\n",
    "\n",
    "person = {'first':'Reuven', 'last':'Lerner', 'shoesize':46}"
   ]
  },
  {
   "cell_type": "code",
   "execution_count": 15,
   "id": "9657a393",
   "metadata": {},
   "outputs": [
    {
     "data": {
      "text/plain": [
       "'Reuven'"
      ]
     },
     "execution_count": 15,
     "metadata": {},
     "output_type": "execute_result"
    }
   ],
   "source": [
    "person['first']"
   ]
  },
  {
   "cell_type": "code",
   "execution_count": 16,
   "id": "24cd6f06",
   "metadata": {},
   "outputs": [
    {
     "data": {
      "text/plain": [
       "'Lerner'"
      ]
     },
     "execution_count": 16,
     "metadata": {},
     "output_type": "execute_result"
    }
   ],
   "source": [
    "person['last']"
   ]
  },
  {
   "cell_type": "code",
   "execution_count": 17,
   "id": "4e682e3f",
   "metadata": {},
   "outputs": [
    {
     "data": {
      "text/plain": [
       "46"
      ]
     },
     "execution_count": 17,
     "metadata": {},
     "output_type": "execute_result"
    }
   ],
   "source": [
    "person['shoesize']"
   ]
  },
  {
   "cell_type": "code",
   "execution_count": 18,
   "id": "c361021e",
   "metadata": {},
   "outputs": [
    {
     "data": {
      "text/plain": [
       "{'a': 10, 'b': 20, 'c': 30}"
      ]
     },
     "execution_count": 18,
     "metadata": {},
     "output_type": "execute_result"
    }
   ],
   "source": [
    "d"
   ]
  },
  {
   "cell_type": "code",
   "execution_count": 19,
   "id": "55c7c0e0",
   "metadata": {},
   "outputs": [],
   "source": [
    "# add a new key-value pair with assignment\n",
    "d['x'] = 100"
   ]
  },
  {
   "cell_type": "code",
   "execution_count": 20,
   "id": "72371cbf",
   "metadata": {},
   "outputs": [
    {
     "data": {
      "text/plain": [
       "{'a': 10, 'b': 20, 'c': 30, 'x': 100}"
      ]
     },
     "execution_count": 20,
     "metadata": {},
     "output_type": "execute_result"
    }
   ],
   "source": [
    "d"
   ]
  },
  {
   "cell_type": "code",
   "execution_count": 21,
   "id": "3e535095",
   "metadata": {},
   "outputs": [],
   "source": [
    "# how do I update a key-value pair? Just assign to a key that already exists -- the value is replaced\n",
    "d['x'] = 2345\n"
   ]
  },
  {
   "cell_type": "code",
   "execution_count": 22,
   "id": "830d32a7",
   "metadata": {},
   "outputs": [
    {
     "data": {
      "text/plain": [
       "{'a': 10, 'b': 20, 'c': 30, 'x': 2345}"
      ]
     },
     "execution_count": 22,
     "metadata": {},
     "output_type": "execute_result"
    }
   ],
   "source": [
    "d"
   ]
  },
  {
   "cell_type": "markdown",
   "id": "903460ae",
   "metadata": {},
   "source": [
    "# Exercise: Restaurant\n",
    "\n",
    "1. Create a dict, called `menu`, in which the keys are names of items sold at a restaurant, and the values are the prices.\n",
    "2. Define a variable `total`, which has a value of 0.\n",
    "3. Ask the user repeatedly what they want to order.\n",
    "   - If they enter an empty string, stop asking and print the total\n",
    "   - If they enter something on the menu (i.e., a key in `menu`), then print the item, its price, and the current total (after adding this item to the total)\n",
    "   - If they enter something *not* on the menu, then scold them\n",
    "4. Print the total\n",
    "\n",
    "Example:\n",
    "\n",
    "    Order: sandwich\n",
    "    sandwich costs 10, total is 10\n",
    "    Order: tea\n",
    "    tea costs 7, total is 17\n",
    "    Order: elephant\n",
    "    we are out of elephant today!\n",
    "    Order: [ENTER]\n",
    "    Total is 17"
   ]
  },
  {
   "cell_type": "code",
   "execution_count": 26,
   "id": "1a98642e",
   "metadata": {},
   "outputs": [
    {
     "name": "stdout",
     "output_type": "stream",
     "text": [
      "Order: sandwich\n",
      "sandwich costs 10, total is now 10.\n",
      "Order: sandwich\n",
      "sandwich costs 10, total is now 20.\n",
      "Order: tea\n",
      "tea costs 7, total is now 27.\n",
      "Order: apple\n",
      "apple costs 3, total is now 30.\n",
      "Order: cake\n",
      "We are out of cake today!\n",
      "Order: \n",
      "total = {total}\n"
     ]
    }
   ],
   "source": [
    "# to create a dict, we use the syntax {key1:value1, key2:value2, key3:value3}\n",
    "\n",
    "menu = {'sandwich':10, 'tea':7, 'apple':3}\n",
    "total = 0\n",
    "\n",
    "while True:\n",
    "    order = input('Order: ').strip()\n",
    "    \n",
    "    if not order:  # if I get an empty string, break from the loop\n",
    "        break\n",
    "\n",
    "    if order in menu:\n",
    "        price = menu[order]\n",
    "        total += price\n",
    "        print(f'{order} costs {price}, total is now {total}.')\n",
    "    else:\n",
    "        print(f'We are out of {order} today!')\n",
    "        \n",
    "print(f'total = {total}')"
   ]
  },
  {
   "cell_type": "code",
   "execution_count": 27,
   "id": "985f77dc",
   "metadata": {},
   "outputs": [
    {
     "name": "stdout",
     "output_type": "stream",
     "text": [
      "total = 30\n"
     ]
    }
   ],
   "source": [
    "print(f'total = {total}')"
   ]
  },
  {
   "cell_type": "code",
   "execution_count": 28,
   "id": "0ef58e18",
   "metadata": {},
   "outputs": [],
   "source": [
    "months = {1:'Jan', 2:'Feb', 3:'Mar', 4:'Apr', 5:'May', 6:'Jun'}"
   ]
  },
  {
   "cell_type": "code",
   "execution_count": 29,
   "id": "8ac8cf4e",
   "metadata": {},
   "outputs": [
    {
     "data": {
      "text/plain": [
       "'Feb'"
      ]
     },
     "execution_count": 29,
     "metadata": {},
     "output_type": "execute_result"
    }
   ],
   "source": [
    "months[2]"
   ]
  },
  {
   "cell_type": "code",
   "execution_count": 30,
   "id": "dca2e883",
   "metadata": {},
   "outputs": [
    {
     "data": {
      "text/plain": [
       "'May'"
      ]
     },
     "execution_count": 30,
     "metadata": {},
     "output_type": "execute_result"
    }
   ],
   "source": [
    "months[5]"
   ]
  },
  {
   "cell_type": "markdown",
   "id": "1eacf513",
   "metadata": {},
   "source": [
    "# Modifying  a dict\n",
    "\n",
    "- We can add a key-value pair by assigning a new key-value pair to the dict:\n",
    "\n",
    "```python\n",
    "d['x'] = 100   # assumes x didn't exist before\n",
    "```\n",
    "    \n",
    "- We can update the value for a key by assigning a new value to the dict:\n",
    "\n",
    "```python\n",
    "d['x'] = 12345 # assumes x did exist before\n",
    "```\n",
    "\n",
    "- Remove a key-value pair by running the `pop` method on a dict:\n",
    "\n",
    "```python\n",
    "d.pop('x')   # returns the value for d['x'] and removes 'x' as a dict key\n",
    "```"
   ]
  },
  {
   "cell_type": "code",
   "execution_count": 31,
   "id": "17ac28cc",
   "metadata": {},
   "outputs": [
    {
     "data": {
      "text/plain": [
       "{'a': 10, 'b': 20, 'c': 30, 'x': 2345}"
      ]
     },
     "execution_count": 31,
     "metadata": {},
     "output_type": "execute_result"
    }
   ],
   "source": [
    "\n",
    "d"
   ]
  },
  {
   "cell_type": "code",
   "execution_count": 32,
   "id": "f9a0e769",
   "metadata": {},
   "outputs": [
    {
     "data": {
      "text/plain": [
       "2345"
      ]
     },
     "execution_count": 32,
     "metadata": {},
     "output_type": "execute_result"
    }
   ],
   "source": [
    "d.pop('x')  # returns the value for d['x'], and removes 'x' from the keys"
   ]
  },
  {
   "cell_type": "code",
   "execution_count": 33,
   "id": "8c85579d",
   "metadata": {},
   "outputs": [
    {
     "data": {
      "text/plain": [
       "{'a': 10, 'b': 20, 'c': 30}"
      ]
     },
     "execution_count": 33,
     "metadata": {},
     "output_type": "execute_result"
    }
   ],
   "source": [
    "d"
   ]
  },
  {
   "cell_type": "code",
   "execution_count": 34,
   "id": "f67dbdb9",
   "metadata": {},
   "outputs": [
    {
     "data": {
      "text/plain": [
       "{'a': 10, 'b': 20, 'c': 30}"
      ]
     },
     "execution_count": 34,
     "metadata": {},
     "output_type": "execute_result"
    }
   ],
   "source": [
    "d"
   ]
  },
  {
   "cell_type": "code",
   "execution_count": 35,
   "id": "3b0cd345",
   "metadata": {},
   "outputs": [
    {
     "data": {
      "text/plain": [
       "{'a': 15, 'b': 20, 'c': 30}"
      ]
     },
     "execution_count": 35,
     "metadata": {},
     "output_type": "execute_result"
    }
   ],
   "source": [
    "d['a'] += 5  # this is like saying d['a'] = d['a'] + 5\n",
    "d"
   ]
  },
  {
   "cell_type": "code",
   "execution_count": 36,
   "id": "7105ebd1",
   "metadata": {},
   "outputs": [
    {
     "ename": "KeyError",
     "evalue": "'x'",
     "output_type": "error",
     "traceback": [
      "\u001b[0;31m---------------------------------------------------------------------------\u001b[0m",
      "\u001b[0;31mKeyError\u001b[0m                                  Traceback (most recent call last)",
      "\u001b[0;32m/var/folders/rr/0mnyyv811fs5vyp22gf4fxk00000gn/T/ipykernel_81114/3840406886.py\u001b[0m in \u001b[0;36m<module>\u001b[0;34m\u001b[0m\n\u001b[0;32m----> 1\u001b[0;31m \u001b[0md\u001b[0m\u001b[0;34m[\u001b[0m\u001b[0;34m'x'\u001b[0m\u001b[0;34m]\u001b[0m \u001b[0;34m+=\u001b[0m \u001b[0;36m10\u001b[0m   \u001b[0;31m# this will fail, because there is no d['x'] to retrieve from\u001b[0m\u001b[0;34m\u001b[0m\u001b[0;34m\u001b[0m\u001b[0m\n\u001b[0m",
      "\u001b[0;31mKeyError\u001b[0m: 'x'"
     ]
    }
   ],
   "source": [
    "d['x'] += 10   # this will fail, because there is no d['x'] to retrieve from"
   ]
  },
  {
   "cell_type": "markdown",
   "id": "edbaeb92",
   "metadata": {},
   "source": [
    "# Exercise: Vowels, digits, and others\n",
    "\n",
    "1. Define a dict, `counts`, in which there are three keys (`vowels`, `digits`, and `others`), all set to 0.\n",
    "2. Ask the user to enter a string.\n",
    "3. Go through the string, and check if each character is a vowel (a, e, i, o, u), a digit (0-9), or something else.  Add 1 to the appropriate count in the `counts` dict.\n",
    "4. After going through the user's string, print the `counts` dict.\n",
    "\n",
    "Example:\n",
    "\n",
    "    Enter a string: testing 123\n",
    "    {'vowels': 2, 'digits': 3, 'others': 6 }"
   ]
  },
  {
   "cell_type": "code",
   "execution_count": 37,
   "id": "823d86cb",
   "metadata": {},
   "outputs": [
    {
     "name": "stdout",
     "output_type": "stream",
     "text": [
      "Enter string: testing 123\n",
      "{'vowels': 2, 'digits': 3, 'others': 6}\n"
     ]
    }
   ],
   "source": [
    "counts = {'vowels':0, 'digits':0, 'others':0}\n",
    "\n",
    "s = input('Enter string: ').strip()\n",
    "\n",
    "for one_character in s:\n",
    "    if one_character in 'aeiou':\n",
    "        counts['vowels'] += 1\n",
    "    elif one_character.isdigit():\n",
    "        counts['digits'] += 1\n",
    "    else:\n",
    "        counts['others'] += 1\n",
    "        \n",
    "print(counts)        "
   ]
  },
  {
   "cell_type": "code",
   "execution_count": 40,
   "id": "0a240b03",
   "metadata": {},
   "outputs": [
    {
     "name": "stdout",
     "output_type": "stream",
     "text": [
      "Enter a string: hello out ther\n",
      "{'h': 2, 'e': 2, 'l': 2, 'o': 2, ' ': 2, 'u': 1, 't': 2, 'r': 1}\n"
     ]
    }
   ],
   "source": [
    "# how many times does each character appear in a user's input?\n",
    "\n",
    "counts = {}\n",
    "\n",
    "s = input('Enter a string: ').strip()\n",
    "\n",
    "for one_character in s:           # go through s, one character at a time\n",
    "    if one_character in counts:   # have we already seen this character before?\n",
    "        counts[one_character] += 1\n",
    "    else:\n",
    "        counts[one_character] = 1\n",
    "        \n",
    "print(counts)"
   ]
  },
  {
   "cell_type": "code",
   "execution_count": 41,
   "id": "c79b58f0",
   "metadata": {},
   "outputs": [
    {
     "name": "stdout",
     "output_type": "stream",
     "text": [
      "Enter a key: a\n",
      "d[a] = 10\n",
      "Enter a key: b\n",
      "d[b] = 20\n",
      "Enter a key: c\n",
      "d[c] = 30\n",
      "Enter a key: x\n",
      "{k} is not a key in d\n",
      "Enter a key: \n"
     ]
    }
   ],
   "source": [
    "# consider this:\n",
    "\n",
    "d = {'a':10, 'b':20, 'c':30}\n",
    "\n",
    "while True:\n",
    "    k = input('Enter a key: ').strip()\n",
    "    \n",
    "    if not k:\n",
    "        break\n",
    "    \n",
    "    if k in d:\n",
    "        print(f'd[{k}] = {d[k]}')\n",
    "    else:\n",
    "        print(f'{k} is not a key in d')"
   ]
  },
  {
   "cell_type": "code",
   "execution_count": 42,
   "id": "73eca840",
   "metadata": {},
   "outputs": [
    {
     "name": "stdout",
     "output_type": "stream",
     "text": [
      "Enter a key: a\n",
      "d[a] = 10\n",
      "Enter a key: b\n",
      "d[b] = 20\n",
      "Enter a key: x\n",
      "d[x] = [Key does not exist]\n",
      "Enter a key: q\n",
      "d[q] = [Key does not exist]\n",
      "Enter a key: \n"
     ]
    }
   ],
   "source": [
    "# we can simplify the above code with the \"get\" method on dicts\n",
    "# get works just like [], but if the key doesn't exist, we can get a value back, without an error\n",
    "# dict.get returns None by default, if the key isn't there\n",
    "# or we can tell it what to return\n",
    "\n",
    "d = {'a':10, 'b':20, 'c':30}\n",
    "\n",
    "while True:\n",
    "    k = input('Enter a key: ').strip()\n",
    "    \n",
    "    if not k:\n",
    "        break\n",
    "    \n",
    "    v = d.get(k, '[Key does not exist]')   # if k in d, returns d[k]. otherwise, returns our string\n",
    "    \n",
    "    print(f'd[{k}] = {v}')\n"
   ]
  },
  {
   "cell_type": "markdown",
   "id": "05bd7661",
   "metadata": {},
   "source": [
    "# Exercise: Rainfall \n",
    "\n",
    "1. Define an empty dict, `rainfall`, in which we'll keep track of city names (keys) and mm rain that fell in each city (values).\n",
    "2. Repeatedly ask the user to enter the name of a city.\n",
    "    - If they enter an empty string, stop asking\n",
    "3. If we got the name of a city, then ask how many mm rain fell there.\n",
    "4. Store this information in the `rainfall` dict:\n",
    "    - If the city is new, assign that value \n",
    "    - If the city already exists in our dict, add the new rainfall to what was already there.\n",
    "5. At the end, print the `rainfall` dict.\n",
    "\n",
    "Example:\n",
    "\n",
    "    City: Jerusalem\n",
    "    Rain: 5\n",
    "    City: Tel Aviv\n",
    "    Rain: 3\n",
    "    City: Jerusalem\n",
    "    Rain: 2\n",
    "    City: [ENTER]\n",
    "    {'Jerusalem':7, 'Tel Aviv':3}"
   ]
  },
  {
   "cell_type": "code",
   "execution_count": 44,
   "id": "8ca75489",
   "metadata": {},
   "outputs": [
    {
     "name": "stdout",
     "output_type": "stream",
     "text": [
      "City: a\n",
      "Rain: 5\n",
      "City: b\n",
      "Rain: 3\n",
      "City: a\n",
      "Rain: 2\n",
      "City: \n",
      "{'a': 7, 'b': 3}\n"
     ]
    }
   ],
   "source": [
    "rainfall = {}\n",
    "\n",
    "while True:\n",
    "    city = input('City: ').strip()\n",
    "    \n",
    "    if not city:   #if it's an empty string, stop the loop\n",
    "        break\n",
    "        \n",
    "    mm_rain = input('Rain: ').strip()\n",
    "    mm_rain = int(mm_rain)\n",
    "    \n",
    "    if city in rainfall:\n",
    "        rainfall[city] += mm_rain\n",
    "    else:\n",
    "        rainfall[city] = mm_rain\n",
    "        \n",
    "print(rainfall)        "
   ]
  },
  {
   "cell_type": "code",
   "execution_count": null,
   "id": "c85ac495",
   "metadata": {},
   "outputs": [],
   "source": [
    "rainfall = {}\n",
    "\n",
    "while True:\n",
    "    city = input('City: ').strip()\n",
    "    \n",
    "    if not city:   #if it's an empty string, stop the loop\n",
    "        break\n",
    "        \n",
    "    mm_rain = input('Rain: ').strip()\n",
    "    mm_rain = int(mm_rain)\n",
    "    \n",
    "    rainfall[city] = rainfall.get(city, 0) + mm_rain\n",
    "        \n",
    "print(rainfall)        "
   ]
  },
  {
   "cell_type": "code",
   "execution_count": 46,
   "id": "5a25fc4f",
   "metadata": {},
   "outputs": [
    {
     "name": "stdout",
     "output_type": "stream",
     "text": [
      "a\n",
      "b\n",
      "c\n"
     ]
    }
   ],
   "source": [
    "d = {'a':10, 'b':20, 'c':30}\n",
    "\n",
    "# can I iterate over a dict with a for loop?\n",
    "\n",
    "# yes -- iterating over the dict gives us the keys, one at a time\n",
    "for one_thing in d:\n",
    "    print(one_thing)"
   ]
  },
  {
   "cell_type": "code",
   "execution_count": 47,
   "id": "9d34e5d7",
   "metadata": {},
   "outputs": [
    {
     "name": "stdout",
     "output_type": "stream",
     "text": [
      "a: 10\n",
      "b: 20\n",
      "c: 30\n"
     ]
    }
   ],
   "source": [
    "# one way to print the keys and values\n",
    "for one_key in d:\n",
    "    print(f'{one_key}: {d[one_key]}')"
   ]
  },
  {
   "cell_type": "code",
   "execution_count": 48,
   "id": "93a0a28d",
   "metadata": {},
   "outputs": [
    {
     "name": "stdout",
     "output_type": "stream",
     "text": [
      "a: 10\n",
      "b: 20\n",
      "c: 30\n"
     ]
    }
   ],
   "source": [
    "# I prefer to use a special method, \"items\"\n",
    "# items returns, with each iteration, a tuple with the key-value pair\n",
    "# we can use unpacking to grab those in each iteration\n",
    "\n",
    "for key, value in d.items():\n",
    "    print(f'{key}: {value}')"
   ]
  },
  {
   "cell_type": "code",
   "execution_count": 49,
   "id": "edf9a634",
   "metadata": {},
   "outputs": [
    {
     "data": {
      "text/plain": [
       "dict_keys(['a', 'b', 'c'])"
      ]
     },
     "execution_count": 49,
     "metadata": {},
     "output_type": "execute_result"
    }
   ],
   "source": [
    "# another dict method: keys()\n",
    "# this returns all of the keys in the dict\n",
    "d.keys()"
   ]
  },
  {
   "cell_type": "code",
   "execution_count": 50,
   "id": "a45b3283",
   "metadata": {},
   "outputs": [
    {
     "data": {
      "text/plain": [
       "True"
      ]
     },
     "execution_count": 50,
     "metadata": {},
     "output_type": "execute_result"
    }
   ],
   "source": [
    "# do not use dict.keys with either \"in\" or \"for\" -- just use the dict itself!\n",
    "\n",
    "'a' in d"
   ]
  },
  {
   "cell_type": "code",
   "execution_count": 52,
   "id": "452666ba",
   "metadata": {},
   "outputs": [
    {
     "data": {
      "text/plain": [
       "True"
      ]
     },
     "execution_count": 52,
     "metadata": {},
     "output_type": "execute_result"
    }
   ],
   "source": [
    "'a' in d.keys()   # this works, but runs *MUCH* more slowly"
   ]
  },
  {
   "cell_type": "code",
   "execution_count": 54,
   "id": "4570122b",
   "metadata": {},
   "outputs": [
    {
     "data": {
      "text/plain": [
       "dict_values([10, 20, 30])"
      ]
     },
     "execution_count": 54,
     "metadata": {},
     "output_type": "execute_result"
    }
   ],
   "source": [
    "# another dict method: values()\n",
    "# this returns all of the values in the dict\n",
    "\n",
    "# if you want to search through the values (which is always slow), then this will work\n",
    "\n",
    "d.values()"
   ]
  },
  {
   "cell_type": "markdown",
   "id": "df23cff5",
   "metadata": {},
   "source": [
    "# How do dicts work? (And why should I care?)\n",
    "\n",
    "Let's first talk about dicts before Python 3.6, which are easier to understand. Then we'll talk about modern dicts, starting in Python 3.6.\n",
    "\n",
    "Back in pre-3.6, dicts were basically tables with two columns. When you would create a new dict, Python would allocate memory for 8 rows, which had internal numbering from 0-7."
   ]
  },
  {
   "cell_type": "raw",
   "id": "b3f48f36",
   "metadata": {},
   "source": [
    "      key      value\n",
    "0\n",
    "1\n",
    "2\n",
    "3\n",
    "4\n",
    "5     'b'        20\n",
    "6     'c'        30\n",
    "7     'a'        10"
   ]
  },
  {
   "cell_type": "code",
   "execution_count": 58,
   "id": "ab06dac6",
   "metadata": {},
   "outputs": [
    {
     "data": {
      "text/plain": [
       "7"
      ]
     },
     "execution_count": 58,
     "metadata": {},
     "output_type": "execute_result"
    }
   ],
   "source": [
    "d = {}  # new dict\n",
    "d['a'] = 10  # Python would run the \"hash\" function on 'a'\n",
    "\n",
    "hash('a') % 8   # 8 locations in our table, so we do % 8, and get an int 0-7"
   ]
  },
  {
   "cell_type": "code",
   "execution_count": 59,
   "id": "68dd0db0",
   "metadata": {},
   "outputs": [
    {
     "data": {
      "text/plain": [
       "5"
      ]
     },
     "execution_count": 59,
     "metadata": {},
     "output_type": "execute_result"
    }
   ],
   "source": [
    "d['b'] = 20\n",
    "hash('b') % 8"
   ]
  },
  {
   "cell_type": "code",
   "execution_count": 60,
   "id": "c093dd7b",
   "metadata": {},
   "outputs": [
    {
     "data": {
      "text/plain": [
       "5"
      ]
     },
     "execution_count": 60,
     "metadata": {},
     "output_type": "execute_result"
    }
   ],
   "source": [
    "d['c'] = 30\n",
    "hash('c') % 8"
   ]
  },
  {
   "cell_type": "code",
   "execution_count": 61,
   "id": "120c219c",
   "metadata": {},
   "outputs": [
    {
     "data": {
      "text/plain": [
       "True"
      ]
     },
     "execution_count": 61,
     "metadata": {},
     "output_type": "execute_result"
    }
   ],
   "source": [
    "'a' in d   # Python runs hash('a') % 8, and finds out -- is 'a' really in our dict?"
   ]
  },
  {
   "cell_type": "code",
   "execution_count": null,
   "id": "8879c7ec",
   "metadata": {},
   "outputs": [],
   "source": []
  }
 ],
 "metadata": {
  "kernelspec": {
   "display_name": "Python 3 (ipykernel)",
   "language": "python",
   "name": "python3"
  },
  "language_info": {
   "codemirror_mode": {
    "name": "ipython",
    "version": 3
   },
   "file_extension": ".py",
   "mimetype": "text/x-python",
   "name": "python",
   "nbconvert_exporter": "python",
   "pygments_lexer": "ipython3",
   "version": "3.10.2"
  }
 },
 "nbformat": 4,
 "nbformat_minor": 5
}
