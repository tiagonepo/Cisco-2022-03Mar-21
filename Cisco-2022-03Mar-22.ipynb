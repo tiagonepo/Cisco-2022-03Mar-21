{
 "cells": [
  {
   "cell_type": "markdown",
   "id": "ad5cb78f",
   "metadata": {},
   "source": [
    "# Agenda\n",
    "\n",
    "1. Dictionaries\n",
    "2. Sets\n",
    "3. Files\n",
    "    - Reading from files\n",
    "    - Writing to files\n",
    "4. Combinations of data structures\n",
    "5. Functions (finally!)"
   ]
  },
  {
   "cell_type": "code",
   "execution_count": 1,
   "id": "8b7d2ab4",
   "metadata": {},
   "outputs": [
    {
     "data": {
      "text/plain": [
       "True"
      ]
     },
     "execution_count": 1,
     "metadata": {},
     "output_type": "execute_result"
    }
   ],
   "source": [
    "mylist = [10, 20, 30, 40, 50]\n",
    "\n",
    "# if I want to search for the number 30 in mylist, how do I do it?\n",
    "30 in mylist"
   ]
  },
  {
   "cell_type": "code",
   "execution_count": 2,
   "id": "3e7a1d63",
   "metadata": {},
   "outputs": [
    {
     "data": {
      "text/plain": [
       "2"
      ]
     },
     "execution_count": 2,
     "metadata": {},
     "output_type": "execute_result"
    }
   ],
   "source": [
    "mylist.index(30)"
   ]
  },
  {
   "cell_type": "code",
   "execution_count": 4,
   "id": "c7ec9aaa",
   "metadata": {},
   "outputs": [],
   "source": [
    "# How long does it take for Python to find 30 in mylist?\n",
    "# it depends... on the length of the list\n",
    "# the longer the list, the longer it might take for us to find 30\n",
    "# we describe this in CS as O(n) -- meaning, the time it takes is proportional to the length of the list\n",
    "# so: longer lists, longer search times (on average), shorter lists, shorter search times (on average)\n",
    "\n",
    "# what if I want to have a record of a person?\n",
    "\n",
    "# tuple -- traditional to use one for a record/struct, and/or when we have different types\n",
    "\n",
    "person = ('Reuven', 'Lerner', 46)  # first name, last name, shoe size"
   ]
  },
  {
   "cell_type": "code",
   "execution_count": 5,
   "id": "d25f9b51",
   "metadata": {},
   "outputs": [
    {
     "data": {
      "text/plain": [
       "'Reuven'"
      ]
     },
     "execution_count": 5,
     "metadata": {},
     "output_type": "execute_result"
    }
   ],
   "source": [
    "person[0]  # first name"
   ]
  },
  {
   "cell_type": "code",
   "execution_count": 6,
   "id": "a9206a50",
   "metadata": {},
   "outputs": [
    {
     "data": {
      "text/plain": [
       "'Lerner'"
      ]
     },
     "execution_count": 6,
     "metadata": {},
     "output_type": "execute_result"
    }
   ],
   "source": [
    "person[1]  # last name"
   ]
  },
  {
   "cell_type": "code",
   "execution_count": 7,
   "id": "35af7b68",
   "metadata": {},
   "outputs": [
    {
     "data": {
      "text/plain": [
       "46"
      ]
     },
     "execution_count": 7,
     "metadata": {},
     "output_type": "execute_result"
    }
   ],
   "source": [
    "person[2]  # shoe size"
   ]
  },
  {
   "cell_type": "markdown",
   "id": "4e7dea13",
   "metadata": {},
   "source": [
    "# Dictionaries to the rescue!\n",
    "\n",
    "Dictionaries (dicts) are:\n",
    "- Very fast to search in\n",
    "- Allow us to use any string we want as an index (known as a \"key\" in dicts)\n",
    "\n",
    "Dictionaries aren't unique to Python. They also exist in other languages, with (usually) other names:\n",
    "- Hash tables\n",
    "- Hashes\n",
    "- Hash maps\n",
    "- Maps\n",
    "- Key-value stores\n",
    "- Name-value stores\n",
    "- Associative arrays\n",
    "\n",
    "The idea of a dict is that you have key-value pairs. We determine both (unlike str/list/tuple, where indexes start at 0, and are determined by the computer).\n",
    "\n",
    "- Keys in dicts can be any immutable type in Python (basically means: strings, ints, floats, `None`, and tuples)\n",
    "- Values can be absolutely, positively anything at all\n",
    "\n",
    "In a dict, keys must be unique. Values don't have to be. We use the key to access the value, as well as to change the value, if/when we want."
   ]
  },
  {
   "cell_type": "code",
   "execution_count": null,
   "id": "76561538",
   "metadata": {},
   "outputs": [],
   "source": [
    "# define a new dictionary with {}\n",
    "d = {'a':10, 'b':20}"
   ]
  }
 ],
 "metadata": {
  "kernelspec": {
   "display_name": "Python 3 (ipykernel)",
   "language": "python",
   "name": "python3"
  },
  "language_info": {
   "codemirror_mode": {
    "name": "ipython",
    "version": 3
   },
   "file_extension": ".py",
   "mimetype": "text/x-python",
   "name": "python",
   "nbconvert_exporter": "python",
   "pygments_lexer": "ipython3",
   "version": "3.10.2"
  }
 },
 "nbformat": 4,
 "nbformat_minor": 5
}
