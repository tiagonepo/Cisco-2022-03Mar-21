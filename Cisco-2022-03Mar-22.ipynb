{
 "cells": [
  {
   "cell_type": "markdown",
   "id": "08105849",
   "metadata": {},
   "source": [
    "# Agenda\n",
    "\n",
    "1. Dictionaries\n",
    "2. Sets\n",
    "3. Files\n",
    "    - Reading from files\n",
    "    - Writing to files\n",
    "4. Combinations of data structures\n",
    "5. Functions (finally!)"
   ]
  },
  {
   "cell_type": "code",
   "execution_count": 1,
   "id": "83420450",
   "metadata": {},
   "outputs": [
    {
     "data": {
      "text/plain": [
       "True"
      ]
     },
     "execution_count": 1,
     "metadata": {},
     "output_type": "execute_result"
    }
   ],
   "source": [
    "mylist = [10, 20, 30, 40, 50]\n",
    "\n",
    "# if I want to search for the number 30 in mylist, how do I do it?\n",
    "30 in mylist"
   ]
  },
  {
   "cell_type": "code",
   "execution_count": 2,
   "id": "9f7d6460",
   "metadata": {},
   "outputs": [
    {
     "data": {
      "text/plain": [
       "2"
      ]
     },
     "execution_count": 2,
     "metadata": {},
     "output_type": "execute_result"
    }
   ],
   "source": [
    "mylist.index(30)"
   ]
  },
  {
   "cell_type": "code",
   "execution_count": null,
   "id": "3fca10f5",
   "metadata": {},
   "outputs": [],
   "source": []
  }
 ],
 "metadata": {
  "kernelspec": {
   "display_name": "Python 3 (ipykernel)",
   "language": "python",
   "name": "python3"
  },
  "language_info": {
   "codemirror_mode": {
    "name": "ipython",
    "version": 3
   },
   "file_extension": ".py",
   "mimetype": "text/x-python",
   "name": "python",
   "nbconvert_exporter": "python",
   "pygments_lexer": "ipython3",
   "version": "3.10.2"
  }
 },
 "nbformat": 4,
 "nbformat_minor": 5
}
