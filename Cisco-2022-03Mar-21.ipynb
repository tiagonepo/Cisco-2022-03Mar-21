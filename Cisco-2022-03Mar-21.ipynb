{
 "cells": [
  {
   "cell_type": "markdown",
   "metadata": {},
   "source": [
    "# Agenda\n",
    "\n",
    "1. Fundamentals (day 1)\n",
    "    - Basic syntax\n",
    "    - Variable assignment\n",
    "    - Basic input and output\n",
    "    - Conditions with `if`\n",
    "2. Data structures (days 1 + 2)\n",
    "    - Numbers\n",
    "    - Strings\n",
    "    - Lists and tuples\n",
    "    - Dictionaries\n",
    "    - Sets\n",
    "    - Files (reading from, writing to)\n",
    "    - Combinations of data structures\n",
    "3. Functions (days 2 + 3)\n",
    "    - Writing functions\n",
    "    - Arguments and parameters\n",
    "    - Scoping (local vs. global)\n",
    "4. Functional programming (day 3)\n",
    "    - List comprehensions\n",
    "    - Sorting (passing functions as arguments to other functions)\n",
    "5. Modules and packages (days 3 + 4)\n",
    "    - Using modules with `import`\n",
    "    - Writing modules\n",
    "    - Downloading and installing modules with `pip`\n",
    "6. Object-oriented programming (day 4)\n",
    "    - Classes\n",
    "    - Instances\n",
    "    - Methods\n",
    "    - Attributes\n",
    "    - Inheritance\n",
    "    - \"Magic methods\"\n",
    "7. Exception handling (day 4)\n",
    "    - How to catch exceptions\n",
    "    - How to raise exceptions    "
   ]
  },
  {
   "cell_type": "code",
   "execution_count": 2,
   "metadata": {},
   "outputs": [
    {
     "name": "stdout",
     "output_type": "stream",
     "text": [
      "Hello, world?\n"
     ]
    }
   ],
   "source": [
    "# I'm typing into a Jupyter \"cell\"\n",
    "# any line starting with # is a comment, which Python ignores\n",
    "\n",
    "print('Hello, world?')    # shift+enter executes all of the code in the current cell"
   ]
  },
  {
   "cell_type": "code",
   "execution_count": 5,
   "metadata": {},
   "outputs": [
    {
     "name": "stdout",
     "output_type": "stream",
     "text": [
      "300\n"
     ]
    }
   ],
   "source": [
    "x = 100      # assigning the value 100 to the variable x\n",
    "y = 200      # assigning the value 200 to the variable y\n",
    "\n",
    "print(x + y) # adding x + y, and printing the result"
   ]
  },
  {
   "cell_type": "code",
   "execution_count": 4,
   "metadata": {},
   "outputs": [
    {
     "name": "stdout",
     "output_type": "stream",
     "text": [
      "20000\n"
     ]
    }
   ],
   "source": [
    "print(x * y)"
   ]
  },
  {
   "cell_type": "code",
   "execution_count": null,
   "metadata": {},
   "outputs": [],
   "source": [
    "# C-ish code\n",
    "\n",
    "int x;\n",
    "x = 5;"
   ]
  },
  {
   "cell_type": "code",
   "execution_count": 6,
   "metadata": {},
   "outputs": [
    {
     "data": {
      "text/plain": [
       "int"
      ]
     },
     "execution_count": 6,
     "metadata": {},
     "output_type": "execute_result"
    }
   ],
   "source": [
    "x = 100\n",
    "type(x)   # what type of value does the variable x refer to?"
   ]
  },
  {
   "cell_type": "code",
   "execution_count": 7,
   "metadata": {},
   "outputs": [
    {
     "data": {
      "text/plain": [
       "str"
      ]
     },
     "execution_count": 7,
     "metadata": {},
     "output_type": "execute_result"
    }
   ],
   "source": [
    "x = 'hello'\n",
    "type(x)  # what type of value does x refer to now?"
   ]
  },
  {
   "cell_type": "code",
   "execution_count": 8,
   "metadata": {},
   "outputs": [
    {
     "ename": "TypeError",
     "evalue": "unsupported operand type(s) for /: 'str' and 'int'",
     "output_type": "error",
     "traceback": [
      "\u001b[0;31m---------------------------------------------------------------------------\u001b[0m",
      "\u001b[0;31mTypeError\u001b[0m                                 Traceback (most recent call last)",
      "\u001b[0;32m/var/folders/rr/0mnyyv811fs5vyp22gf4fxk00000gn/T/ipykernel_80623/1763131453.py\u001b[0m in \u001b[0;36m<module>\u001b[0;34m\u001b[0m\n\u001b[1;32m      1\u001b[0m \u001b[0mx\u001b[0m \u001b[0;34m=\u001b[0m \u001b[0;34m'h'\u001b[0m\u001b[0;34m\u001b[0m\u001b[0;34m\u001b[0m\u001b[0m\n\u001b[0;32m----> 2\u001b[0;31m \u001b[0mx\u001b[0m \u001b[0;34m/\u001b[0m \u001b[0;36m10\u001b[0m\u001b[0;34m\u001b[0m\u001b[0;34m\u001b[0m\u001b[0m\n\u001b[0m",
      "\u001b[0;31mTypeError\u001b[0m: unsupported operand type(s) for /: 'str' and 'int'"
     ]
    }
   ],
   "source": [
    "x = 'h'\n",
    "x / 10"
   ]
  },
  {
   "cell_type": "code",
   "execution_count": 10,
   "metadata": {},
   "outputs": [
    {
     "name": "stdout",
     "output_type": "stream",
     "text": [
      "Hello, Reuven!\n"
     ]
    }
   ],
   "source": [
    "# identifiers (i.e., variables and functions) can be any combination of letters, numbers, and _\n",
    "# capital and lowercase letters are different\n",
    "# names cannot start with numbers\n",
    "# if a name starts with _, then it's considered (by convention) to be private\n",
    "\n",
    "name = 'Reuven'   # assign the text string 'Reuven' to the variable 'name'\n",
    "print('Hello, ' + name + '!')   # create a new string based on three smaller strings, joining them with +"
   ]
  },
  {
   "cell_type": "code",
   "execution_count": null,
   "metadata": {},
   "outputs": [],
   "source": [
    "# add integers\n",
    "x = 10\n",
    "y = 20\n",
    "\n",
    "print(x)"
   ]
  }
 ],
 "metadata": {
  "kernelspec": {
   "display_name": "Python 3 (ipykernel)",
   "language": "python",
   "name": "python3"
  },
  "language_info": {
   "codemirror_mode": {
    "name": "ipython",
    "version": 3
   },
   "file_extension": ".py",
   "mimetype": "text/x-python",
   "name": "python",
   "nbconvert_exporter": "python",
   "pygments_lexer": "ipython3",
   "version": "3.10.2"
  }
 },
 "nbformat": 4,
 "nbformat_minor": 4
}
