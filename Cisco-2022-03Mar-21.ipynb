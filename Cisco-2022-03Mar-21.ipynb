{
 "cells": [
  {
   "cell_type": "markdown",
   "metadata": {},
   "source": [
    "# Agenda\n",
    "\n",
    "1. Fundamentals\n",
    "    - Basic syntax\n",
    "    - Variable assignment\n",
    "    - Basic input and output\n",
    "    - Conditions with `if`\n",
    "2. Data structures\n",
    "    - Numbers\n",
    "    - Strings\n",
    "    - Lists and tuples\n",
    "    - Dictionaries\n",
    "    - Sets\n",
    "    - Files (reading from, writing to)\n",
    "    - Combinations of data structures\n",
    "3. Functio    \n",
    "    "
   ]
  }
 ],
 "metadata": {
  "kernelspec": {
   "display_name": "Python 3 (ipykernel)",
   "language": "python",
   "name": "python3"
  },
  "language_info": {
   "codemirror_mode": {
    "name": "ipython",
    "version": 3
   },
   "file_extension": ".py",
   "mimetype": "text/x-python",
   "name": "python",
   "nbconvert_exporter": "python",
   "pygments_lexer": "ipython3",
   "version": "3.10.2"
  }
 },
 "nbformat": 4,
 "nbformat_minor": 4
}
