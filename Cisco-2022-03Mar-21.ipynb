{
 "cells": [
  {
   "cell_type": "markdown",
   "metadata": {},
   "source": [
    "# Agenda\n",
    "\n",
    "1. Fundamentals (day 1)\n",
    "    - Basic syntax\n",
    "    - Variable assignment\n",
    "    - Basic input and output\n",
    "    - Conditions with `if`\n",
    "2. Data structures (days 1 + 2)\n",
    "    - Numbers\n",
    "    - Strings\n",
    "    - Lists and tuples\n",
    "    - Dictionaries\n",
    "    - Sets\n",
    "    - Files (reading from, writing to)\n",
    "    - Combinations of data structures\n",
    "3. Functions (days 2 + 3)\n",
    "    - Writing functions\n",
    "    - Arguments and parameters\n",
    "    - Scoping (local vs. global)\n",
    "4. Functional programming (day 3)\n",
    "    - List comprehensions\n",
    "    - Sorting (passing functions as arguments to other functions)\n",
    "5. Modules and packages (days 3 + 4)\n",
    "    - Using modules with `import`\n",
    "    - Writing modules\n",
    "    - Downloading and installing modules with `pip`\n",
    "6. Object-oriented programming (day 4)\n",
    "    - Classes\n",
    "    - Instances\n",
    "    - Methods\n",
    "    - Attributes\n",
    "    - Inheritance\n",
    "    - \"Magic methods\"\n",
    "7. Exception handling (day 4)\n",
    "    - How to catch exceptions\n",
    "    - How to raise exceptions    "
   ]
  },
  {
   "cell_type": "code",
   "execution_count": null,
   "metadata": {},
   "outputs": [],
   "source": [
    "# I'm typing into a Jupyter \"cell\"\n",
    "# any line starting with # is a comment, which Python ignores"
   ]
  }
 ],
 "metadata": {
  "kernelspec": {
   "display_name": "Python 3 (ipykernel)",
   "language": "python",
   "name": "python3"
  },
  "language_info": {
   "codemirror_mode": {
    "name": "ipython",
    "version": 3
   },
   "file_extension": ".py",
   "mimetype": "text/x-python",
   "name": "python",
   "nbconvert_exporter": "python",
   "pygments_lexer": "ipython3",
   "version": "3.10.2"
  }
 },
 "nbformat": 4,
 "nbformat_minor": 4
}
